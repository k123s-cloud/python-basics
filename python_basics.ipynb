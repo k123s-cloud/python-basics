{
  "nbformat": 4,
  "nbformat_minor": 0,
  "metadata": {
    "colab": {
      "provenance": []
    },
    "kernelspec": {
      "name": "python3",
      "display_name": "Python 3"
    },
    "language_info": {
      "name": "python"
    }
  },
  "cells": [
    {
      "cell_type": "markdown",
      "source": [
        "# Python basics\n",
        "\n",
        "1 . What is python, and why it is purpose?\n",
        "\n",
        "-> Python is a versatile high level language known for readability and simplicity used for a wide range of applications like automation, image processing and more.\n",
        "\n",
        "->Its purpose is to make programming accessible and efficient,allowing develepors to solve problems with clear and concise code.\n",
        "\n",
        "2 . What is an interpreter in python?\n",
        "\n",
        "-> In python, an interpreter is a program that reads and execute python code line by line translating it into machine readable instruction and then executing them.\n",
        "\n",
        "3 . What are pre-defined keywords in Python?\n",
        "\n",
        "-> predefined keyword that hold a special meaning and have specific purpose.\n",
        "\n",
        "    Eg:- print,type,false,class,none,true,break,del,elif,finally,lambda,not,or,return,try,while,with,if,and,for.\n",
        "\n",
        "4 . Can keywords be used as variable names?\n",
        "\n",
        "-> No, beacause keyword define a language syntax rules and structure but if there is a need to use a name similar to a keyword then it is used to append an underscore to it.\n",
        "\n",
        "    eg:- class_\n",
        "\n",
        "5 . What is mutability in Python?\n",
        "\n",
        "-> An object is considered mutable if it is state or value can be modified after it is created.\n",
        "\n",
        "    eg:- lists, dictionaries and sets.\n",
        "\n",
        "6 . Why are lists mutable, but tuples are immutable?\n",
        "\n",
        "-> List are mutable because they are designed for dynamic data storage allowing modifications after creation.\n",
        "\n",
        "-> And tuple are immutable beacause where you used a data structure that represent a fixed set of data, or when you need to ensure that the data it holds is not accidentally modified.\n",
        "\n",
        "7 . What is the difference between “==” and “is” operators in Python?\n",
        "\n",
        "-> \"==\" evaluates whether the values of two object are equal. It returns true if the values are same otherwise false.\n",
        "\n",
        "-> \"is\" evaluates whether two variables refer to the same object in memory.It return true if they point the same object otherwise false.\n",
        "\n",
        "8 . What are logical operators in Python?\n",
        "\n",
        "-> Logical operators are used to combine or modify boolean values(true or false).\n",
        "\n",
        "->3 logical operators are:\n",
        "\n",
        "1. and operators :- return true if both operand are true otherwise false.\n",
        "2. or operators :- return true if at least one oerand is true otherwise false.\n",
        "3. not operators :- return the opposite boolean value of the operand.\n",
        "\n",
        "9 . What is type casting in Python?\n",
        "\n",
        "-> The process of changing the data type of a value is called type casting.\n",
        "\n",
        "10 . What is the difference between implicit and explicit type casting?\n",
        "\n",
        "-> implicit :- It change the data type automatically .\n",
        "\n",
        "-> explicit :- It change the data type manually using built in function.\n",
        "\n",
        "11 . What is the purpose of conditional statements in Python?\n",
        "\n",
        "-> Conditonal statement in python are used to execute certain block of code based on specific condition. These statement help control the flow of a program, making it behave differently in different situations.\n",
        "\n",
        "12 . How does the elif statement work?\n",
        "\n",
        "-> The elif statement in python is used to check multiple condition sequentially . If the first condition is false, it move on to the next \"elif\" statement to check if that condition is true.\n",
        "\n",
        "13 . What is the difference between for and while loops?\n",
        "\n",
        "-> A for loop in python repeats executing a code block from a sequence till certain nuber of times.\n",
        "\n",
        "-> A while loop repeats execution of a code block till the condition is true .\n",
        "\n",
        "14 . Describe a scenario where a while loop is more suitable than a for loop?\n",
        "\n",
        "->  A scenario where a while loop is more suitable than a for loop in Python is when the number of iterations is not known in advance and depends on a condition being met. Consider a program that prompts the user to enter input until they enter a specific word, such as \"quit.\" A while loop is ideal here because the loop continues as long as the user's input is not \"quit\", and the number of times the loop runs is determined by the user, not a predetermined range.\n",
        "\n",
        "\n",
        "\n",
        "\n",
        "\n"
      ],
      "metadata": {
        "id": "bLRqwD96HdUf"
      }
    },
    {
      "cell_type": "code",
      "source": [
        "# Write a Python program to print \"Hello, World!?\n",
        "print(\"Hello, World!\")"
      ],
      "metadata": {
        "colab": {
          "base_uri": "https://localhost:8080/"
        },
        "id": "JAZ2mC_GVMkc",
        "outputId": "f71348ee-527a-4ee5-98f2-280929a140ce"
      },
      "execution_count": 2,
      "outputs": [
        {
          "output_type": "stream",
          "name": "stdout",
          "text": [
            "Hello, World!\n"
          ]
        }
      ]
    },
    {
      "cell_type": "code",
      "source": [
        "# Write a Python program that displays your name and age?\n",
        "name = \"kartikay sharma\"\n",
        "age = 23\n",
        "print(name)\n",
        "print(age)"
      ],
      "metadata": {
        "colab": {
          "base_uri": "https://localhost:8080/"
        },
        "id": "_i7L5T94W85z",
        "outputId": "7e35a50f-f370-4a8c-de6e-c18f097b6c6c"
      },
      "execution_count": 3,
      "outputs": [
        {
          "output_type": "stream",
          "name": "stdout",
          "text": [
            "kartikay sharma\n",
            "23\n"
          ]
        }
      ]
    },
    {
      "cell_type": "code",
      "source": [
        "#  Write code to print all the pre-defined keywords in Python using the keyword library?\n",
        "import keyword\n",
        "print(keyword.kwlist)"
      ],
      "metadata": {
        "colab": {
          "base_uri": "https://localhost:8080/"
        },
        "id": "KeYbJPi7ZKhU",
        "outputId": "cc0db321-f020-42f3-e26a-fdf603456dc5"
      },
      "execution_count": 6,
      "outputs": [
        {
          "output_type": "stream",
          "name": "stdout",
          "text": [
            "['False', 'None', 'True', 'and', 'as', 'assert', 'async', 'await', 'break', 'class', 'continue', 'def', 'del', 'elif', 'else', 'except', 'finally', 'for', 'from', 'global', 'if', 'import', 'in', 'is', 'lambda', 'nonlocal', 'not', 'or', 'pass', 'raise', 'return', 'try', 'while', 'with', 'yield']\n"
          ]
        }
      ]
    },
    {
      "cell_type": "code",
      "source": [
        "# Write a program that checks if a given word is a Python keyword?\n",
        "a = input(\"enter a word: \")\n",
        "if a in keyword.kwlist:\n",
        "  print(\"it is a keyword\")\n",
        "else:\n",
        "  print(\"it is not a keyword\")\n",
        ""
      ],
      "metadata": {
        "colab": {
          "base_uri": "https://localhost:8080/"
        },
        "id": "wknxsylgaJ-q",
        "outputId": "d23f0e93-c3e2-46bb-8ad7-ec6254438e00"
      },
      "execution_count": 11,
      "outputs": [
        {
          "output_type": "stream",
          "name": "stdout",
          "text": [
            "enter a word: lambda\n",
            "it is a keyword\n"
          ]
        }
      ]
    },
    {
      "cell_type": "code",
      "source": [
        "# Create a list and tuple in Python, and demonstrate how attempting to change an element works differently?\n",
        "l = [1,2,3,4,4,5,6]\n",
        "l[4]=6\n",
        "l"
      ],
      "metadata": {
        "colab": {
          "base_uri": "https://localhost:8080/"
        },
        "id": "zH1ge3M4bhwk",
        "outputId": "ed237635-7591-466f-d3b1-788cb406516b"
      },
      "execution_count": 14,
      "outputs": [
        {
          "output_type": "execute_result",
          "data": {
            "text/plain": [
              "[1, 2, 3, 4, 6, 5, 6]"
            ]
          },
          "metadata": {},
          "execution_count": 14
        }
      ]
    },
    {
      "cell_type": "code",
      "source": [
        "# Create a list and tuple in Python, and demonstrate how attempting to change an element works differently?\n",
        "t = (\"apple\",\"banana\",\"guava\")\n",
        "a = t + (\"mango\",)\n",
        "a"
      ],
      "metadata": {
        "colab": {
          "base_uri": "https://localhost:8080/"
        },
        "id": "DseVmaAebnSv",
        "outputId": "1fda3605-7d7f-42fe-9ae7-16c2313d6bd1"
      },
      "execution_count": 72,
      "outputs": [
        {
          "output_type": "execute_result",
          "data": {
            "text/plain": [
              "('apple', 'banana', 'guava', 'mango')"
            ]
          },
          "metadata": {},
          "execution_count": 72
        }
      ]
    },
    {
      "cell_type": "code",
      "source": [
        "# Write a function to demonstrate the behavior of mutable and immutable arguments?\n",
        "list = [1,2,3,4,5]\n",
        "list.append(6)\n",
        "list\n"
      ],
      "metadata": {
        "colab": {
          "base_uri": "https://localhost:8080/"
        },
        "id": "n3dwAcdddKA-",
        "outputId": "b90bcca4-9764-4dac-9ada-556b8396466c"
      },
      "execution_count": 20,
      "outputs": [
        {
          "output_type": "execute_result",
          "data": {
            "text/plain": [
              "[1, 2, 3, 4, 5, 6]"
            ]
          },
          "metadata": {},
          "execution_count": 20
        }
      ]
    },
    {
      "cell_type": "code",
      "source": [
        "dict = {\"name\": \"kartik\",\"age\":\"23\"}\n",
        "dict[\"age\"]=24\n",
        "dict"
      ],
      "metadata": {
        "colab": {
          "base_uri": "https://localhost:8080/"
        },
        "id": "obzEmJdGdvuF",
        "outputId": "153c2b63-ef6b-4e9c-e648-8d8b35ca3d61"
      },
      "execution_count": 22,
      "outputs": [
        {
          "output_type": "execute_result",
          "data": {
            "text/plain": [
              "{'name': 'kartik', 'age': 24}"
            ]
          },
          "metadata": {},
          "execution_count": 22
        }
      ]
    },
    {
      "cell_type": "code",
      "source": [
        "# string are immutable thats why we cannot change after cretaion.\n",
        "str = \"hello\"\n",
        "#str[0] = \"H\" # this will cause an error\n",
        "a = str + \" world\"\n",
        "a\n"
      ],
      "metadata": {
        "colab": {
          "base_uri": "https://localhost:8080/",
          "height": 36
        },
        "id": "8Ug-zqBoeEHa",
        "outputId": "a654c7b6-8e06-4895-8c58-bfc9168d6595"
      },
      "execution_count": 25,
      "outputs": [
        {
          "output_type": "execute_result",
          "data": {
            "text/plain": [
              "'hello world'"
            ],
            "application/vnd.google.colaboratory.intrinsic+json": {
              "type": "string"
            }
          },
          "metadata": {},
          "execution_count": 25
        }
      ]
    },
    {
      "cell_type": "code",
      "source": [
        "# tuple are alse immutable\n",
        "tuple = (2,4,5)\n",
        "#tuple[0] = 1# this will cause an error\n",
        "new_tuple = tuple + (6,)\n",
        "new_tuple"
      ],
      "metadata": {
        "colab": {
          "base_uri": "https://localhost:8080/"
        },
        "id": "T6CcvEdqe-o4",
        "outputId": "a7f94024-d06a-4e72-d016-0bccd4ab278f"
      },
      "execution_count": 26,
      "outputs": [
        {
          "output_type": "execute_result",
          "data": {
            "text/plain": [
              "(2, 4, 5, 6)"
            ]
          },
          "metadata": {},
          "execution_count": 26
        }
      ]
    },
    {
      "cell_type": "code",
      "source": [
        "# Write a program to demonstrate the use of logical operators?\n",
        "# and opertor\n",
        "a = 4\n",
        "b = 5\n",
        "print(a>2 and b>=5)"
      ],
      "metadata": {
        "colab": {
          "base_uri": "https://localhost:8080/"
        },
        "id": "xajsb4p3fXXt",
        "outputId": "07295262-aae6-4e50-806f-a808fe8ed2bc"
      },
      "execution_count": 29,
      "outputs": [
        {
          "output_type": "stream",
          "name": "stdout",
          "text": [
            "True\n"
          ]
        }
      ]
    },
    {
      "cell_type": "code",
      "source": [
        "# or operator\n",
        "a = 4\n",
        "b = 5\n",
        "print(a>2 or b<a)\n",
        "\n"
      ],
      "metadata": {
        "colab": {
          "base_uri": "https://localhost:8080/"
        },
        "id": "AkkcHJnGgAL5",
        "outputId": "391415cd-6a59-4f08-9264-22f79b317d7e"
      },
      "execution_count": 30,
      "outputs": [
        {
          "output_type": "stream",
          "name": "stdout",
          "text": [
            "True\n"
          ]
        }
      ]
    },
    {
      "cell_type": "code",
      "source": [
        "# not opertor\n",
        "a = \"true\"\n",
        "not a"
      ],
      "metadata": {
        "colab": {
          "base_uri": "https://localhost:8080/"
        },
        "id": "djXLp_QegkYe",
        "outputId": "fcac6783-f5f6-4e0f-d23f-0bdf7d2474da"
      },
      "execution_count": 32,
      "outputs": [
        {
          "output_type": "execute_result",
          "data": {
            "text/plain": [
              "False"
            ]
          },
          "metadata": {},
          "execution_count": 32
        }
      ]
    },
    {
      "cell_type": "code",
      "source": [
        "# Write a Python program to convert user input from string to integer, float, and boolean types?\n",
        "a = input(\"enter a number: \")\n",
        "print(int(a))\n",
        "print(float(a))\n",
        "print(bool(a))\n"
      ],
      "metadata": {
        "colab": {
          "base_uri": "https://localhost:8080/"
        },
        "id": "-1wN-bswg7f2",
        "outputId": "6c507a04-42d8-436f-dd04-80cf163efebe"
      },
      "execution_count": 46,
      "outputs": [
        {
          "output_type": "stream",
          "name": "stdout",
          "text": [
            "enter a number: 10\n",
            "10\n",
            "10.0\n",
            "True\n"
          ]
        }
      ]
    },
    {
      "cell_type": "code",
      "source": [
        "# Write code to demonstrate type casting with list elements?\n",
        "list = [1,2,3,4,5,6]\n",
        "f = [float(i) for i in list]\n",
        "f\n",
        "\n"
      ],
      "metadata": {
        "colab": {
          "base_uri": "https://localhost:8080/"
        },
        "id": "d14atQ4Yj9_3",
        "outputId": "4fa82867-1ec2-4150-e5f8-f2913a4c9980"
      },
      "execution_count": 57,
      "outputs": [
        {
          "output_type": "execute_result",
          "data": {
            "text/plain": [
              "[1.0, 2.0, 3.0, 4.0, 5.0, 6.0]"
            ]
          },
          "metadata": {},
          "execution_count": 57
        }
      ]
    },
    {
      "cell_type": "code",
      "source": [
        "# Write a program that checks if a number is positive, negative, or zero?\n",
        "number = int(input(\"enter a number:\"))\n",
        "if number>0:\n",
        "  print(\"positive\")\n",
        "elif number<0:\n",
        "  print(\"negative\")\n",
        "else:\n",
        "  print(\"zero\")\n",
        "\n",
        ""
      ],
      "metadata": {
        "colab": {
          "base_uri": "https://localhost:8080/"
        },
        "id": "9h3NZdkkmkwr",
        "outputId": "ceabc944-cdba-4f20-ef79-a8baa133aa0b"
      },
      "execution_count": 60,
      "outputs": [
        {
          "output_type": "stream",
          "name": "stdout",
          "text": [
            "enter a number:7\n",
            "positive\n"
          ]
        }
      ]
    },
    {
      "cell_type": "code",
      "source": [
        "# Write a for loop to print numbers from 1 to 10?\n",
        "for i in range(1,11):\n",
        "  print(i ,end=\" \")"
      ],
      "metadata": {
        "colab": {
          "base_uri": "https://localhost:8080/"
        },
        "id": "QdKBIC64ne5Z",
        "outputId": "378a006a-56d7-4828-b80e-4621074e6f0f"
      },
      "execution_count": 63,
      "outputs": [
        {
          "output_type": "stream",
          "name": "stdout",
          "text": [
            "1 2 3 4 5 6 7 8 9 10 "
          ]
        }
      ]
    },
    {
      "cell_type": "code",
      "source": [
        "# Write a Python program to find the sum of all even numbers between 1 and 50?\n",
        "sum = 0\n",
        "for i in range(1,51):\n",
        "  if i%2==0:\n",
        "    sum+=i\n",
        "print(sum)"
      ],
      "metadata": {
        "colab": {
          "base_uri": "https://localhost:8080/"
        },
        "id": "APhffnyxn0-7",
        "outputId": "81056d0b-2a94-4d74-e9d8-0ca5f2ab6ba4"
      },
      "execution_count": 64,
      "outputs": [
        {
          "output_type": "stream",
          "name": "stdout",
          "text": [
            "650\n"
          ]
        }
      ]
    },
    {
      "cell_type": "code",
      "source": [
        "# Write a program to reverse a string using a while loop?\n",
        "a = input(\"enter a string: \")\n",
        "i = len(a)-1\n",
        "while i>=0:\n",
        "  print(a[i],end=\"\")\n",
        "  i=i-1"
      ],
      "metadata": {
        "colab": {
          "base_uri": "https://localhost:8080/"
        },
        "id": "rnUa13w8omub",
        "outputId": "99bf0680-c23c-4c33-eee2-975b09f5a2eb"
      },
      "execution_count": 65,
      "outputs": [
        {
          "output_type": "stream",
          "name": "stdout",
          "text": [
            "enter a string: kartikay\n",
            "yakitrak"
          ]
        }
      ]
    },
    {
      "cell_type": "code",
      "source": [
        "# Write a Python program to calculate the factorial of a number provided by the user using a while loop?\n",
        "a = int(input(\"enter a number: \"))\n",
        "fact = 1\n",
        "while a>0:\n",
        "  fact=fact*a\n",
        "  a=a-1\n",
        "print(fact)\n",
        "\n"
      ],
      "metadata": {
        "colab": {
          "base_uri": "https://localhost:8080/"
        },
        "id": "FcJRQzQfpMuw",
        "outputId": "a6d74131-2ca0-4430-8a30-12224cbcd45e"
      },
      "execution_count": 70,
      "outputs": [
        {
          "output_type": "stream",
          "name": "stdout",
          "text": [
            "enter a number: 5\n",
            "120\n"
          ]
        }
      ]
    }
  ]
}